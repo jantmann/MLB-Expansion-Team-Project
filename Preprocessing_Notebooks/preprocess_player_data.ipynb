{
 "cells": [
  {
   "cell_type": "markdown",
   "id": "9b6b98cc",
   "metadata": {},
   "source": [
    "# Importing and reading in data"
   ]
  },
  {
   "cell_type": "markdown",
   "id": "6152bdfb",
   "metadata": {},
   "source": [
    "In addition to our normal pandas and numpy, I've chosen to import some packages associated with web scraping and preprocessing, things that will be utilized later on in the project."
   ]
  },
  {
   "cell_type": "code",
   "execution_count": null,
   "id": "8763e92d",
   "metadata": {},
   "outputs": [],
   "source": [
    "import pandas as pd\n",
    "import numpy as np\n",
    "import requests\n",
    "from bs4 import BeautifulSoup\n",
    "import re\n",
    "import os\n",
    "from multiprocessing import Pool\n",
    "from concurrent.futures import ThreadPoolExecutor"
   ]
  },
  {
   "cell_type": "code",
   "execution_count": null,
   "id": "136d67ed",
   "metadata": {},
   "outputs": [],
   "source": [
    "import warnings\n",
    "warnings.filterwarnings('ignore')\n",
    "pd.set_option('display.max_columns', None)"
   ]
  },
  {
   "cell_type": "markdown",
   "id": "6d5921a6",
   "metadata": {},
   "source": [
    "# Preprocessing player data"
   ]
  },
  {
   "cell_type": "code",
   "execution_count": null,
   "id": "81d8d20a",
   "metadata": {},
   "outputs": [],
   "source": [
    "# Creating list of team names for looping through function\n",
    "team_names = ['ARI', 'ATL', 'BAL', 'BOS', 'CHC', 'CHW', 'CIN', 'CLE', 'COL','DET', 'HOU', 'KC', 'LAA', 'LAD', 'MIA', \n",
    "              'MIL', 'MIN', 'NYM', 'NYY', 'OAK', 'PHI', 'PIT', 'SD', 'SEA', 'SF', 'STL', 'TB', 'TEX', 'TOR', 'WAS']"
   ]
  },
  {
   "cell_type": "code",
   "execution_count": null,
   "id": "f8e0e853",
   "metadata": {},
   "outputs": [],
   "source": [
    "def df_preprocessing(team_name) :\n",
    "    \n",
    "    batting_path = os.path.join('/Users/jantmann17/Desktop/Portfolio-Projects/MLB-Expansion-Team-Project/team-player-data/Offense', f'{team_name}batting.csv')\n",
    "    pitching_path = os.path.join('/Users/jantmann17/Desktop/Portfolio-Projects/MLB-Expansion-Team-Project/team-player-data/Pitching', f'{team_name}pitching.csv')\n",
    "    roster_path = os.path.join('/Users/jantmann17/Desktop/Portfolio-Projects/MLB-Expansion-Team-Project/team-player-data/Current Rosters', f'{team_name}roster.csv')\n",
    "    \n",
    "    batting_df = pd.read_csv(batting_path)\n",
    "    pitching_df = pd.read_csv(pitching_path)\n",
    "    roster_df = pd.read_csv(roster_path) \n",
    "    \n",
    "# Roster preprocessing\n",
    "    roster_df = roster_df.drop(columns = ['Rk', 'Uni', 'Unnamed: 3', 'Unnamed: 4', 'OnActv', 'IL', 'DoB', '1stYr', 'Name-additional'])\n",
    "    removable_substrings = ['*', '#', '?', ' (15-day IL)', ' (7-day IL)', ' (10-day IL)', ' (60-day IL)', ' (40-man)']\n",
    "    name_pattern = '|'.join(map(re.escape, removable_substrings))\n",
    "    roster_df['Name'] = roster_df['Name'].str.replace(name_pattern, '')\n",
    "    roster_df.dropna(how = 'all', inplace = True)\n",
    "    excluded_columns_roster = ['Name', 'B', 'T', 'Ht']\n",
    "    for column in roster_df.columns :\n",
    "        if column not in excluded_columns_roster :\n",
    "            roster_df[column] = roster_df[column].astype(int)\n",
    "\n",
    "# Batting preprocessing\n",
    "    batting_df = batting_df.rename(columns = {'Pos' : 'Position'}).drop(columns = ['Rk', 'Name-additional'])\n",
    "    removable_substrings = ['*', '#', '?', ' (15-day IL)', ' (10-day IL)', ' (60-day IL)', ' (40-man)', ' (7-day IL)', ' (DFA)']\n",
    "    name_pattern = '|'.join(map(re.escape, removable_substrings))\n",
    "    batting_df['Name'] = batting_df['Name'].str.replace(name_pattern, '')\n",
    "    batting_df.dropna(how = 'all', inplace = True)\n",
    "    excluded_columns_bat = ['Position', 'Name', 'BA', 'OBP', 'SLG', 'OPS']\n",
    "    for column in batting_df.columns :\n",
    "        if column not in excluded_columns_bat :\n",
    "            batting_df[column] = pd.to_numeric(batting_df[column], errors = 'coerce')\n",
    "            batting_df[column].fillna(0, inplace = True)\n",
    "            batting_df[column] = batting_df[column].astype(int)\n",
    "    batting_df = batting_df.drop(batting_df[batting_df['Position'] == 'P'].index)\n",
    "    batting_df.insert(1, 'Team', team_name)\n",
    "\n",
    "# Pitching preprocessing\n",
    "    pitching_df = pitching_df.rename(columns = {'Pos' : 'Position'}).drop(columns = ['Rk', 'Name-additional'])\n",
    "    removable_substrings = ['*', '#', '?', ' (15-day IL)', ' (7-day IL)', ' (10-day IL)', ' (60-day IL)', ' (40-man)', ' (DFA)']\n",
    "    name_pattern = '|'.join(map(re.escape, removable_substrings))\n",
    "    pitching_df['Name'] = pitching_df['Name'].str.replace(name_pattern, '')\n",
    "    pitching_df.dropna(how = 'all', inplace = True)\n",
    "    pitching_df.dropna(subset = ['W-L%', 'SO/W'], inplace = True)\n",
    "    pitching_df['Position'].fillna('P', inplace = True)\n",
    "    excluded_columns_pitch = ['Position', 'Name', 'IP', 'FIP', 'WHIP', 'H9', 'HR9', 'BB9', 'SO9']\n",
    "    for column in pitching_df.columns :\n",
    "        if column not in excluded_columns_pitch :\n",
    "            pitching_df[column] = pitching_df[column].astype(int)\n",
    "    pitching_df.insert(1, 'Team', team_name)\n",
    "    \n",
    "    batting_df[batting_df['Name'].isin(roster_df['Name'])].reset_index(drop = True, inplace = True)\n",
    "    pitching_df[pitching_df['Name'].isin(roster_df['Name'])].reset_index(drop = True, inplace = True)\n",
    "    \n",
    "# Saving updated dataframes\n",
    "\n",
    "    filtered_batting_path = os.path.join('/Users/jantmann17/Desktop/Portfolio-Projects/MLB-Expansion-Team-Project/team-player-data/Filtered_Offense', f'{team_name}batting_filtered.csv')\n",
    "    filtered_pitching_path = os.path.join('/Users/jantmann17/Desktop/Portfolio-Projects/MLB-Expansion-Team-Project/team-player-data/Filtered_Pitching', f'{team_name}pitching_filtered.csv')\n",
    "    batting_df.to_csv(filtered_batting_path, index = False)\n",
    "    pitching_df.to_csv(filtered_pitching_path, index = False)"
   ]
  },
  {
   "cell_type": "code",
   "execution_count": null,
   "id": "db87b2e6",
   "metadata": {
    "scrolled": true
   },
   "outputs": [],
   "source": [
    "if __name__ == '__main__' :\n",
    "    num_threads = 30\n",
    "\n",
    "    with ThreadPoolExecutor(max_workers = num_threads) as executor :\n",
    "# Use the map function to apply the df_preprocessing function to each team concurrently\n",
    "        try :\n",
    "            executor.map(df_preprocessing, team_names)\n",
    "        except Exception as e :\n",
    "            print(f\"Error occurred: {e}\")\n",
    "\n",
    "# Merging the filtered data for each team into a single DataFrame if needed\n",
    "    batting_dfs = []\n",
    "    for team_name in team_names:\n",
    "        filtered_batting_path = f'/Users/jantmann17/Desktop/Portfolio-Projects/MLB-Expansion-Team-Project/team-player-data/Filtered_Offense/{team_name}batting_filtered.csv'\n",
    "        df = pd.read_csv(filtered_batting_path)\n",
    "        batting_dfs.append(df)\n",
    "    batting_df = pd.concat(batting_dfs)\n",
    "    \n",
    "    pitching_dfs = []\n",
    "    for team_name in team_names:\n",
    "        filtered_pitching_path = f'/Users/jantmann17/Desktop/Portfolio-Projects/MLB-Expansion-Team-Project/team-player-data/Filtered_Pitching/{team_name}pitching_filtered.csv'\n",
    "        df = pd.read_csv(filtered_pitching_path)\n",
    "        pitching_dfs.append(df)\n",
    "    pitching_df = pd.concat(pitching_dfs)"
   ]
  },
  {
   "cell_type": "code",
   "execution_count": null,
   "id": "095e567b",
   "metadata": {},
   "outputs": [],
   "source": [
    "# Quick reset of indices for concatenated dataframes\n",
    "batting_df.reset_index(drop = True, inplace = True)\n",
    "pitching_df.reset_index(drop = True, inplace = True)"
   ]
  },
  {
   "cell_type": "code",
   "execution_count": null,
   "id": "77942fda",
   "metadata": {
    "scrolled": false
   },
   "outputs": [],
   "source": [
    "batting_df"
   ]
  },
  {
   "cell_type": "code",
   "execution_count": null,
   "id": "80455b75",
   "metadata": {},
   "outputs": [],
   "source": [
    "pitching_df"
   ]
  },
  {
   "cell_type": "markdown",
   "id": "34e45f5c",
   "metadata": {},
   "source": [
    "# Year-by-Year MLB Team Data"
   ]
  },
  {
   "cell_type": "markdown",
   "id": "1be4df43",
   "metadata": {},
   "source": [
    "In this section I will web scrape for team data year-by-year, such that drafting players can be compared against what statistics winning teams display. A side note on WAR: the average war for a World Series-winning team, is 47.0, with an average WAR for batting players at 29.7 and pitchers 17.3. \n",
    "\n",
    "Source: https://sabr.org/journal/article/war-and-the-world-series-is-war-an-indicator-of-october-success/"
   ]
  },
  {
   "cell_type": "code",
   "execution_count": null,
   "id": "921e40c8",
   "metadata": {},
   "outputs": [],
   "source": [
    "wswinners = pd.read_csv('/Users/jantmann17/Desktop/Portfolio-Projects/MLB-Expansion-Team-Project/WSWinners.csv')"
   ]
  },
  {
   "cell_type": "code",
   "execution_count": null,
   "id": "706831d2",
   "metadata": {},
   "outputs": [],
   "source": [
    "wswinners"
   ]
  },
  {
   "cell_type": "code",
   "execution_count": null,
   "id": "f63a7b10",
   "metadata": {},
   "outputs": [],
   "source": [
    "wswinners = wswinners.drop(columns = ['Series MVP'])\n",
    "wswinners.head(30)"
   ]
  },
  {
   "cell_type": "code",
   "execution_count": null,
   "id": "d5ef8d38",
   "metadata": {},
   "outputs": [],
   "source": [
    "wswinners = wswinners.drop(28)\n",
    "wswinners.head(30)"
   ]
  },
  {
   "cell_type": "code",
   "execution_count": null,
   "id": "23e2e124",
   "metadata": {},
   "outputs": [],
   "source": [
    "wswinners.dtypes"
   ]
  },
  {
   "cell_type": "code",
   "execution_count": null,
   "id": "957c1caa",
   "metadata": {},
   "outputs": [],
   "source": [
    "wswinners['Year'] = wswinners['Year'].astype(int)"
   ]
  },
  {
   "cell_type": "code",
   "execution_count": null,
   "id": "907a773f",
   "metadata": {},
   "outputs": [],
   "source": [
    "real_winners = []\n",
    "for index, row in wswinners.iterrows():\n",
    "    if row['Wins'] > row['Wins.1']:\n",
    "        real_winners.append(row['AL Winner'])\n",
    "    else:\n",
    "        real_winners.append(row['NL Winner'])"
   ]
  },
  {
   "cell_type": "code",
   "execution_count": null,
   "id": "53c36579",
   "metadata": {
    "scrolled": false
   },
   "outputs": [],
   "source": [
    "real_winners"
   ]
  },
  {
   "cell_type": "code",
   "execution_count": null,
   "id": "f47e0a7a",
   "metadata": {},
   "outputs": [],
   "source": [
    "wswinners['World Series Champions'] = real_winners\n",
    "wswinners = wswinners.drop(columns = ['AL Winner', 'Wins', 'Wins.1', 'NL Winner'])\n",
    "wswinners"
   ]
  },
  {
   "cell_type": "code",
   "execution_count": null,
   "id": "a6fb6fc4",
   "metadata": {},
   "outputs": [],
   "source": [
    "# have to make slightly different team names list because baseball reference does them differently\n",
    "bref_team_names = ['ARI', 'ATL', 'BAL', 'BOS', 'CHC', 'CHW', 'CIN', 'CLE', 'COL','DET', 'HOU', 'KCR', 'ANA', 'LAD', 'FLA', \n",
    "              'MIL', 'MIN', 'NYM', 'NYY', 'OAK', 'PHI', 'PIT', 'SDP', 'SEA', 'SFG', 'STL', 'TBD', 'TEX', 'TOR', 'WSN']"
   ]
  },
  {
   "cell_type": "code",
   "execution_count": null,
   "id": "60e792ef",
   "metadata": {},
   "outputs": [],
   "source": [
    "team_dataframes = []\n",
    "for team_abbr in bref_team_names:\n",
    "    url = f'https://www.baseball-reference.com/teams/{team_abbr}/batteam.shtml#all_yby_team_bat'\n",
    "    \n",
    "    response = requests.get(url)\n",
    "    \n",
    "    if response.status_code == 200:\n",
    "        # Parse the HTML content of the page\n",
    "        soup = BeautifulSoup(response.text, 'html.parser')\n",
    "\n",
    "        # Find the \"Year-by-Year Team Batting\" table by its id\n",
    "        tables = soup.find_all('table')\n",
    "\n",
    "        if tables:\n",
    "            # Convert the first table data to a DataFrame\n",
    "            team_df = pd.read_html(str(tables[0]))[0]\n",
    "\n",
    "            # Add a \"Team\" column to store the team's abbreviation\n",
    "            team_df['Team'] = team_abbr\n",
    "\n",
    "            # Append the DataFrame to the list\n",
    "            team_dataframes.append(team_df)\n",
    "\n",
    "\n",
    "        else:\n",
    "            print(f\"No tables found on the page for {team_abbr}\")\n",
    "    else:\n",
    "        print(f\"Failed to retrieve data for {team_abbr}\")\n",
    "        \n",
    "# Concatenate all DataFrames into a single DataFrame\n",
    "all_team_data = pd.concat(team_dataframes, ignore_index=True)\n",
    "\n",
    "# Save the combined data to a CSV file (optional)\n",
    "all_team_data.to_csv('team_batting_data.csv', index=False)\n",
    "\n",
    "# Display the first few rows of the combined DataFrame\n",
    "print(all_team_data.head())"
   ]
  },
  {
   "cell_type": "code",
   "execution_count": null,
   "id": "0a057da4",
   "metadata": {},
   "outputs": [],
   "source": [
    "all_team_data_batting = all_team_data\n",
    "all_team_data_batting"
   ]
  },
  {
   "cell_type": "code",
   "execution_count": null,
   "id": "b0436c39",
   "metadata": {},
   "outputs": [],
   "source": [
    "team_dataframes = []\n",
    "for team_abbr in bref_team_names:\n",
    "    url = f'https://www.baseball-reference.com/teams/{team_abbr}/pitchteam.shtml#all_yby_team_pitch'\n",
    "    \n",
    "    response = requests.get(url)\n",
    "    \n",
    "    if response.status_code == 200:\n",
    "        # Parse the HTML content of the page\n",
    "        soup = BeautifulSoup(response.text, 'html.parser')\n",
    "\n",
    "        # Find the \"Year-by-Year Team Batting\" table by its id\n",
    "        tables = soup.find_all('table')\n",
    "\n",
    "        if tables:\n",
    "            # Convert the first table data to a DataFrame\n",
    "            team_df = pd.read_html(str(tables[0]))[0]\n",
    "\n",
    "            # Add a \"Team\" column to store the team's abbreviation\n",
    "            team_df['Team'] = team_abbr\n",
    "\n",
    "            # Append the DataFrame to the list\n",
    "            team_dataframes.append(team_df)\n",
    "\n",
    "\n",
    "        else:\n",
    "            print(f\"No tables found on the page for {team_abbr}\")\n",
    "    else:\n",
    "        print(f\"Failed to retrieve data for {team_abbr}\")\n",
    "        \n",
    "# Concatenate all DataFrames into a single DataFrame\n",
    "all_team_data_pitching = pd.concat(team_dataframes, ignore_index=True)\n",
    "\n",
    "# Save the combined data to a CSV file (optional)\n",
    "all_team_data_pitching.to_csv('team_pitching_data.csv', index=False)\n",
    "\n",
    "# Display the first few rows of the combined DataFrame\n",
    "print(all_team_data_pitching.head())"
   ]
  },
  {
   "cell_type": "code",
   "execution_count": null,
   "id": "990cde79",
   "metadata": {},
   "outputs": [],
   "source": [
    "all_team_data_pitching"
   ]
  },
  {
   "cell_type": "code",
   "execution_count": null,
   "id": "774dfe95",
   "metadata": {},
   "outputs": [],
   "source": [
    "all_team_data_pitching.to_csv('/Users/jantmann17/Desktop/Portfolio-Projects/MLB-Expansion-Team-Project/all_team_data_pitching.csv', index = False)"
   ]
  },
  {
   "cell_type": "code",
   "execution_count": null,
   "id": "c40c602d",
   "metadata": {},
   "outputs": [],
   "source": [
    "all_team_data_batting.to_csv('/Users/jantmann17/Desktop/Portfolio-Projects/MLB-Expansion-Team-Project/all_team_data_batting.csv', index = False)"
   ]
  },
  {
   "cell_type": "code",
   "execution_count": null,
   "id": "7d73800a",
   "metadata": {},
   "outputs": [],
   "source": [
    "name_abbr_dict = {'Arizona Diamondbacks':'ARI', 'Atlanta Braves':'ATL', 'Baltimore Orioles':'BAL', \n",
    "                  'Boston Red Sox':'BOS', 'Chicago Cubs':'CHC', 'Chicago White Sox':'CHW', 'Cincinatti Reds':'CIN',\n",
    "                  'Cleveland Indians': 'CLE', 'Colorado Rockies':'COL', 'Detroit Tigers':'DET', 'Houston Astros':'HOU',\n",
    "                  'Kansas City Royals':'KCR', 'Anaheim Angels':'ANA', 'Los Angeles Dodgers':'LAD', \n",
    "                  'Florida Marlins':'FLA', 'Milwaukee Brewers':'MIL', 'Minnesota Twins':'MIN', 'New York Mets':'NYM',\n",
    "                  'New York Yankees':'NYY', 'Oakland Athletics':'OAK', 'Philadelphia Phillies':'PHI', \n",
    "                  'Pittsburgh Pirates':'PIT', 'San Diego Padres':'SDP', 'Seattle Mariners':'SEA', \n",
    "                  'San Francisco Giants':'SFG', 'St. Louis Cardinals':'STL', 'Tampa Bay Rays':'TBD', 'Texas Rangers':'TEX', \n",
    "                  'Toronto Blue Jays':'TOR', 'Washington Nationals':'WSN'}"
   ]
  },
  {
   "cell_type": "code",
   "execution_count": null,
   "id": "989db042",
   "metadata": {},
   "outputs": [],
   "source": [
    "all_team_data_batting = pd.read_csv('/Users/jantmann17/Desktop/Portfolio-Projects/MLB-Expansion-Team-Project/all_team_data_batting.csv')"
   ]
  },
  {
   "cell_type": "code",
   "execution_count": null,
   "id": "48dc854c",
   "metadata": {},
   "outputs": [],
   "source": [
    "all_team_data_batting"
   ]
  },
  {
   "cell_type": "code",
   "execution_count": null,
   "id": "4290a588",
   "metadata": {},
   "outputs": [],
   "source": [
    "wswinners['Team'] = wswinners['World Series Champions'].map(name_abbr_dict)\n",
    "wswinners"
   ]
  },
  {
   "cell_type": "code",
   "execution_count": null,
   "id": "3ae2420d",
   "metadata": {},
   "outputs": [],
   "source": [
    "wsbat = all_team_data_batting.merge(wswinners, on=['Year', 'Team'], how = 'left')\n",
    "wsbat['World Series Champions'].count()"
   ]
  },
  {
   "cell_type": "code",
   "execution_count": null,
   "id": "563dfb00",
   "metadata": {},
   "outputs": [],
   "source": [
    "wspitch = all_team_data_pitching.merge(wswinners, on=['Year', 'Team'], how = 'left')\n",
    "wspitch['World Series Champions'].count()"
   ]
  },
  {
   "cell_type": "code",
   "execution_count": null,
   "id": "15c76f53",
   "metadata": {},
   "outputs": [],
   "source": [
    "wspitching = pd.merge(all_team_data_pitching, wswinners, on=['Year', 'Team'], how='inner')"
   ]
  },
  {
   "cell_type": "code",
   "execution_count": null,
   "id": "16ef8c05",
   "metadata": {},
   "outputs": [],
   "source": [
    "wspitching"
   ]
  },
  {
   "cell_type": "code",
   "execution_count": null,
   "id": "7e1a8729",
   "metadata": {},
   "outputs": [],
   "source": [
    "wschamps = wspitching.pop('World Series Champions')\n",
    "wspitching.insert(1, wschamps.name, wschamps)\n",
    "wspitching = wspitching.drop(columns = ['Team', 'Lg', 'W', 'L', 'Finish'])\n",
    "wspitching = wspitching.sort_values(by = 'Year', ascending = False).reset_index()\n",
    "wspitching = wspitching.drop(columns = ['index'])\n",
    "wspitching"
   ]
  },
  {
   "cell_type": "code",
   "execution_count": null,
   "id": "009f4e64",
   "metadata": {},
   "outputs": [],
   "source": [
    "wschamps1 = wsbatting.pop('World Series Champions')\n",
    "wsbatting.insert(1, wschamps.name, wschamps)\n",
    "wsbatting = wsbatting.drop(columns = ['Team', 'Lg', 'W', 'L', 'Finish'])\n",
    "wsbatting = wsbatting.sort_values(by = 'Year', ascending = False).reset_index()\n",
    "wsbatting = wsbatting.drop(columns = ['index'])\n",
    "wsbatting"
   ]
  },
  {
   "cell_type": "code",
   "execution_count": null,
   "id": "fab94930",
   "metadata": {},
   "outputs": [],
   "source": [
    "wsbattingmeans = wsbatting.drop(columns = ['Year', 'G']).mean()\n",
    "wspitchingmeans = wspitching.drop(columns = ['Year', 'G']).mean()\n",
    "wsbattingmeans"
   ]
  },
  {
   "cell_type": "code",
   "execution_count": null,
   "id": "809fb925",
   "metadata": {},
   "outputs": [],
   "source": [
    "wspitchingmeans"
   ]
  },
  {
   "cell_type": "markdown",
   "id": "15e08ca3",
   "metadata": {},
   "source": [
    "## Placeholder -- below testing on refactoring batting and pitching dataframes to check for WS winner"
   ]
  },
  {
   "cell_type": "code",
   "execution_count": null,
   "id": "72a4d350",
   "metadata": {},
   "outputs": [],
   "source": [
    "all_team_data_batting = all_team_data_batting[(all_team_data_batting['Year'] >= 1998) & (all_team_data_batting['Year'] <= 2022)]\n",
    "all_team_data_pitching = all_team_data_pitching[(all_team_data_pitching['Year'] >= 1998) & (all_team_data_pitching['Year'] <= 2022)]"
   ]
  },
  {
   "cell_type": "code",
   "execution_count": null,
   "id": "91fd808b",
   "metadata": {},
   "outputs": [],
   "source": [
    "all_team_data_batting"
   ]
  },
  {
   "cell_type": "code",
   "execution_count": null,
   "id": "b0ec71a2",
   "metadata": {},
   "outputs": [],
   "source": [
    "all_team_data_pitching"
   ]
  },
  {
   "cell_type": "code",
   "execution_count": null,
   "id": "f573d17e",
   "metadata": {},
   "outputs": [],
   "source": [
    "batting_df_WS = all_team_data_batting.merge(wswinners, on=['Year', 'Team'], how='left')\n",
    "batting_df_WS['WS_Winner'] = batting_df_WS['World Series Champions'].apply(lambda x: 'Yes' if pd.notna(x) else 'No')\n",
    "batting_df_WS.drop(columns=['World Series Champions'], inplace=True)\n",
    "batting_df_WS = batting_df_WS.drop(columns = ['Lg', 'W', 'L', 'G', 'Finish'])\n",
    "teamname = batting_df_WS.pop('Team')\n",
    "batting_df_WS.insert(1, teamname.name, teamname)\n",
    "batting_df_WS = batting_df_WS[batting_df_WS['Year'] != 2020]\n",
    "batting_df_WS = batting_df_WS.rename(columns = {'2B':'Doubles', '3B':'Triples'})\n",
    "batting_df_WS"
   ]
  },
  {
   "cell_type": "code",
   "execution_count": null,
   "id": "9bd93f17",
   "metadata": {},
   "outputs": [],
   "source": [
    "pitching_df_WS = all_team_data_pitching.merge(wswinners, on=['Year', 'Team'], how='left')\n",
    "pitching_df_WS['WS_Winner'] = pitching_df_WS['World Series Champions'].apply(lambda x: 'Yes' if pd.notna(x) else 'No')\n",
    "pitching_df_WS.drop(columns=['World Series Champions'], inplace=True)\n",
    "pitching_df_WS = pitching_df_WS.drop(columns = ['Lg', 'W', 'L', 'G', 'Finish'])\n",
    "teamname = pitching_df_WS.pop('Team')\n",
    "pitching_df_WS.insert(1, teamname.name, teamname)\n",
    "pitching_df_WS = pitching_df_WS[pitching_df_WS['Year'] != 2020]\n",
    "pitching_df_WS"
   ]
  },
  {
   "cell_type": "code",
   "execution_count": null,
   "id": "42efac8c",
   "metadata": {},
   "outputs": [],
   "source": [
    "pitching_df_WS.to_csv('/Users/jantmann17/Desktop/Portfolio-Projects/MLB-Expansion-Team-Project/team_pitching_df.csv', index = False)\n",
    "batting_df_WS.to_csv('/Users/jantmann17/Desktop/Portfolio-Projects/MLB-Expansion-Team-Project/team_batting_df.csv', index = False)"
   ]
  },
  {
   "cell_type": "code",
   "execution_count": null,
   "id": "b25b6b1d",
   "metadata": {},
   "outputs": [],
   "source": [
    "merged_df = pitching_df_WS.merge(batting_df_WS, on=['Year', 'Team'], how='inner')"
   ]
  },
  {
   "cell_type": "code",
   "execution_count": null,
   "id": "c3b18f38",
   "metadata": {},
   "outputs": [],
   "source": [
    "merged_df"
   ]
  },
  {
   "cell_type": "code",
   "execution_count": null,
   "id": "421cb53d",
   "metadata": {},
   "outputs": [],
   "source": [
    "pd.set_option('display.max_columns', None)"
   ]
  },
  {
   "cell_type": "code",
   "execution_count": null,
   "id": "2ea7c72c",
   "metadata": {},
   "outputs": [],
   "source": [
    "merged_df = merged_df.drop(columns=['WS_Winner_x', 'E_y', 'DP_y', 'Fld%_y', 'PA', 'AB']).rename(columns = {'WS_Winner_y':'WS_Winner', 'H_x':'Hits_Allowed', \n",
    "                                                                       'R_x':'Runs_Allowed', 'HR_x':'HR_Allowed',\n",
    "                                                                      'BB_x':'Walks_Allowed', 'SO_x':'SO_Pitch',\n",
    "                                                                      'E_x':'Errors_Committed', 'DP_x':'GDP',\n",
    "                                                                      'Fld%_x':'Fielding_Percentage', 'R_y': 'Runs_Scored',\n",
    "                                                                      'H_y':'Hits_For', 'HR_y':'HR_For', 'BB_y':'Walks_For', \n",
    "                                                                      'SO_y':'SO_Bat', 'BatAge':'Batting_Age', 'PAge':'Pitching_Age',\n",
    "                                                                      'RA/G':'Runs_Allowed_Per_Game', 'R/G':'Runs_Per_Game',\n",
    "                                                                      '2B':'Doubles', '3B':'Triples'})"
   ]
  },
  {
   "cell_type": "code",
   "execution_count": null,
   "id": "160ec6a3",
   "metadata": {},
   "outputs": [],
   "source": [
    "merged_df"
   ]
  },
  {
   "cell_type": "code",
   "execution_count": null,
   "id": "8a50fbe2",
   "metadata": {},
   "outputs": [],
   "source": [
    "pitchage = merged_df.pop('Pitching_Age')\n",
    "merged_df.insert(36, pitchage.name, pitchage)\n",
    "merged_df.iloc[:, 2:37] = merged_df.iloc[:, 2:37].astype(float)\n",
    "merged_df"
   ]
  },
  {
   "cell_type": "code",
   "execution_count": null,
   "id": "a2eacc3c",
   "metadata": {},
   "outputs": [],
   "source": [
    "merged_df.to_csv('/Users/jantmann17/Desktop/Portfolio-Projects/MLB-Expansion-Team-Project/all_team_data.csv', index = False)"
   ]
  },
  {
   "cell_type": "code",
   "execution_count": null,
   "id": "8a39e29e",
   "metadata": {},
   "outputs": [],
   "source": [
    "merged_df.dtypes"
   ]
  },
  {
   "cell_type": "code",
   "execution_count": null,
   "id": "74c01d02",
   "metadata": {},
   "outputs": [],
   "source": []
  }
 ],
 "metadata": {
  "kernelspec": {
   "display_name": "Python 3 (ipykernel)",
   "language": "python",
   "name": "python3"
  },
  "language_info": {
   "codemirror_mode": {
    "name": "ipython",
    "version": 3
   },
   "file_extension": ".py",
   "mimetype": "text/x-python",
   "name": "python",
   "nbconvert_exporter": "python",
   "pygments_lexer": "ipython3",
   "version": "3.9.12"
  }
 },
 "nbformat": 4,
 "nbformat_minor": 5
}
